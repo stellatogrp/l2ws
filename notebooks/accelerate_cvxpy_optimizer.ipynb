{
 "cells": [
  {
   "cell_type": "code",
   "execution_count": 11,
   "metadata": {},
   "outputs": [],
   "source": [
    "import os\n",
    "import sys\n",
    "\n",
    "# Add the parent directory to the Python path\n",
    "parent_dir = os.path.abspath(os.path.join(os.getcwd(), '..'))\n",
    "sys.path.insert(0, parent_dir)\n",
    "\n",
    "# Now you can import the module from the examples directory\n",
    "import jax.numpy as jnp\n",
    "import numpy as np\n",
    "import matplotlib.pyplot as plt\n",
    "import cvxpy as cp\n",
    "from scipy.sparse import csc_matrix\n",
    "from jax import vmap\n",
    "import networkx as nx\n",
    "from functools import partial\n",
    "from scipy.spatial import distance_matrix\n",
    "from l2ws.utils.nn_utils import get_nearest_neighbors\n",
    "from l2ws.l2ws_model import L2WSmodel\n",
    "from l2ws.scs_model import SCSmodel\n",
    "from l2ws.algo_steps import create_k_steps_train, create_k_steps_eval, create_M, get_scaled_vec_and_factor, create_projection_fn\n"
   ]
  },
  {
   "attachments": {},
   "cell_type": "markdown",
   "metadata": {},
   "source": [
    "## SCS\n",
    "\n",
    "In this tutorial we show how to use our package to learn high-quality warm starts for your favorite fixed-point algorithm.\n",
    "We consider projected gradient descent to solve the problem\n",
    "\n",
    "\\begin{array}{ll} \\text{minimize} & 1 / 2 x^T P x + c^T x\n",
    "\\\\ \\text{subject to} \\quad & Ax + s = b\\\\\n",
    "&s \\in \\mathcal{K}\n",
    " \\end{array}\n",
    "where $x \\in \\mathbf{R}^n$ and $s \\in \\mathbf{R}^m$ are the decision variables.\n",
    "Here, $P \\in \\mathbf{S}_+^n$, $A \\in \\mathbf{R}^{m \\times n}$, $c \\in \\mathbf{R}^n$, and $b \\in \\mathbf{R}^m$ are the problem data.\n",
    "\n",
    "\n",
    "We take the specific example of maxcut\n",
    "\n",
    "\\begin{array}{ll} \\rm{minimize} &\\mathbf{tr}(CX) \\\\\n",
    "&X_{ii} = 1 \\quad i=1,\\dots,n \\\\\n",
    "&X \\succeq 0\n",
    " \\end{array}\n",
    "where $C \\in \\mathbf{S}^{n}_+$ is the problem data.\n",
    "Here, $\\theta = \\mathbf{vec}(C)$ is the parameter."
   ]
  },
  {
   "cell_type": "code",
   "execution_count": 12,
   "metadata": {},
   "outputs": [],
   "source": [
    "# # generate the problem data that does not change\n",
    "# # in this case, the matrices P and A do not change from problem to problem\n",
    "# # therefore the matrix factorization is the same for all problems\n",
    "# n = 20\n",
    "# nc2 = int(n * (n + 1) / 2)\n",
    "# m = n\n",
    "# P = jnp.zeros((n, n))\n",
    "# A = jnp.zeros((m, nc2))\n",
    "# b = jnp.ones(m)\n",
    "# cones = dict(z=m, )\n",
    "\n",
    "# # basic hyperparameters in SCS\n",
    "# rho_x, alpha, scale = 1, 1, 1\n",
    "\n",
    "# # the part of \\mathcal{K} that is the zero cone\n",
    "# zero_cone_size = m\n",
    "\n",
    "# M = create_M(P, A)\n",
    "# factor = get_scaled_vec_and_factor(M, rho_x, scale, m, nc2, zero_cone_size)\n",
    "\n",
    "# projection = create_projection_fn(cones, nc2)\n",
    "\n"
   ]
  },
  {
   "cell_type": "code",
   "execution_count": 23,
   "metadata": {},
   "outputs": [],
   "source": [
    "# create the cvxpy problem\n",
    "n_orig = 20\n",
    "nc2 = int(n_orig * (n_orig + 1) / 2)\n",
    "N_train = 100\n",
    "N_test = 10\n",
    "N = N_train + N_test\n",
    "\n",
    "C_param = cp.Parameter((n_orig, n_orig), symmetric=True)\n",
    "X = cp.Variable((n_orig, n_orig), symmetric=True)\n",
    "prob = cp.Problem(cp.Maximize(cp.trace(C_param @ X)), constraints=[X >> 0, cp.diag(X) == 1])"
   ]
  },
  {
   "cell_type": "code",
   "execution_count": 26,
   "metadata": {},
   "outputs": [],
   "source": [
    "# create the C matrices\n",
    "laplacian_matrices = []\n",
    "laplacian_matrices_upper_tri_mat = np.zeros((N, nc2))\n",
    "\n",
    "for i in range(N):\n",
    "    # Create a random graph (you can customize the graph generation method)\n",
    "    G = nx.erdos_renyi_graph(n_orig, 0.5)  # Example: Erdos-Renyi random graph\n",
    "    \n",
    "    # Compute the Laplacian matrix of the graph\n",
    "    laplacian_matrix = nx.laplacian_matrix(G).toarray()\n",
    "    \n",
    "    laplacian_matrices.append(laplacian_matrix)\n",
    "    laplacian_matrices_upper_tri_mat[i, :] = laplacian_matrix[np.triu_indices(laplacian_matrix.shape[0])]"
   ]
  },
  {
   "cell_type": "code",
   "execution_count": 27,
   "metadata": {},
   "outputs": [],
   "source": [
    "C_param.value = laplacian_matrices[0]\n",
    "prob.solve()\n",
    "data, _, __ = prob.get_problem_data(cp.SCS)\n",
    "c, b = data['c'], data['b']\n",
    "A = data['A']\n",
    "\n",
    "m = b.size\n",
    "n = c.size\n",
    "P = csc_matrix(np.zeros((n, n)))\n",
    "\n",
    "cones_cp = data['dims']\n",
    "cones = {'z': cones_cp.zero, 'l': cones_cp.nonneg, 'q': cones_cp.soc, 's': cones_cp.psd}\n",
    "\n",
    "q_mat = np.zeros((N, m + n))\n",
    "z_stars = np.zeros((N, m + n))\n",
    "for i in range(N):\n",
    "    C_param.value = laplacian_matrices[i]\n",
    "    sol = prob.solve()\n",
    "    data, _, __ = prob.get_problem_data(cp.SCS)\n",
    "    c, b = data['c'], data['b']\n",
    "\n",
    "    # q = (c, b)\n",
    "    q_mat[i, :n] = c\n",
    "    q_mat[i, n:] = b\n",
    "\n",
    "    # transform the solution to the z variable\n",
    "    z = sol.x\n"
   ]
  },
  {
   "cell_type": "code",
   "execution_count": 28,
   "metadata": {},
   "outputs": [],
   "source": [
    "# SCS algorithm hyperparameters\n",
    "rho_x, alpha, scale = 1, 1, 1\n",
    "zero_cone_size = cones['z']\n",
    "P_jax = jnp.array(P.todense())\n",
    "A_jax = jnp.array(A.todense())\n",
    "M_jax = create_M(P_jax, A_jax)\n",
    "algo_factor, scale_vec = get_scaled_vec_and_factor(M_jax, rho_x, scale, m, n,\n",
    "                                                        zero_cone_size)"
   ]
  },
  {
   "cell_type": "code",
   "execution_count": 29,
   "metadata": {},
   "outputs": [],
   "source": [
    "q_mat_jax = jnp.array(q_mat)\n",
    "theta_mat_jax = jnp.array(laplacian_matrices_upper_tri_mat)\n"
   ]
  },
  {
   "cell_type": "code",
   "execution_count": null,
   "metadata": {},
   "outputs": [],
   "source": []
  },
  {
   "cell_type": "code",
   "execution_count": null,
   "metadata": {},
   "outputs": [],
   "source": [
    "# generate the different C matrices"
   ]
  },
  {
   "cell_type": "code",
   "execution_count": 33,
   "metadata": {},
   "outputs": [],
   "source": [
    "projection = create_projection_fn(cones, n)\n",
    "q_mat_train = q_mat_jax[:N_train, :]\n",
    "q_mat_test = q_mat_jax[N_train:, :]\n",
    "train_inputs = theta_mat_jax[:N_train, :]\n",
    "test_inputs = theta_mat_jax[N_train:, :]\n",
    "\n",
    "input_dict = dict(algorithm='scs',\n",
    "                      m=m, n=n, hsde=True, static_flag=True, proj=projection,\n",
    "                      cones=cones,\n",
    "                      train_unrolls=5, jit=True,\n",
    "                      q_mat_train=q_mat_train, q_mat_test=q_mat_test,\n",
    "                      train_inputs=train_inputs, test_inputs=test_inputs,\n",
    "                      static_M=M_jax,\n",
    "                      static_algo_factor=algo_factor,\n",
    "                      rho_x=rho_x, scale=scale, alpha_relax=alpha,\n",
    "                      zero_cone_size=zero_cone_size)\n",
    "scs_model = SCSmodel(input_dict)"
   ]
  },
  {
   "cell_type": "code",
   "execution_count": 34,
   "metadata": {},
   "outputs": [
    {
     "ename": "NameError",
     "evalue": "name 'proj_gd_model' is not defined",
     "output_type": "error",
     "traceback": [
      "\u001b[0;31m---------------------------------------------------------------------------\u001b[0m",
      "\u001b[0;31mNameError\u001b[0m                                 Traceback (most recent call last)",
      "Cell \u001b[0;32mIn[34], line 3\u001b[0m\n\u001b[1;32m      1\u001b[0m \u001b[39m# cold start evaluation\u001b[39;00m\n\u001b[1;32m      2\u001b[0m k \u001b[39m=\u001b[39m \u001b[39m100\u001b[39m\n\u001b[0;32m----> 3\u001b[0m init_eval_out \u001b[39m=\u001b[39m proj_gd_model\u001b[39m.\u001b[39mevaluate(\n\u001b[1;32m      4\u001b[0m     k, test_inputs, b_mat_test, z_stars\u001b[39m=\u001b[39mz_stars_test, fixed_ws\u001b[39m=\u001b[39m\u001b[39mFalse\u001b[39;00m, tag\u001b[39m=\u001b[39m\u001b[39m'\u001b[39m\u001b[39mtest\u001b[39m\u001b[39m'\u001b[39m)\n\u001b[1;32m      5\u001b[0m init_test_losses \u001b[39m=\u001b[39m init_eval_out[\u001b[39m1\u001b[39m][\u001b[39m1\u001b[39m]\u001b[39m.\u001b[39mmean(axis\u001b[39m=\u001b[39m\u001b[39m0\u001b[39m)\n",
      "\u001b[0;31mNameError\u001b[0m: name 'proj_gd_model' is not defined"
     ]
    }
   ],
   "source": [
    "# cold start evaluation\n",
    "k = 100\n",
    "init_eval_out = scs_model.evaluate(\n",
    "    k, test_inputs, q_mat_test, z_stars=z_stars_test, fixed_ws=False, tag='test')\n",
    "init_test_losses = init_eval_out[1][1].mean(axis=0)"
   ]
  },
  {
   "cell_type": "code",
   "execution_count": null,
   "metadata": {},
   "outputs": [],
   "source": []
  }
 ],
 "metadata": {
  "kernelspec": {
   "display_name": "env",
   "language": "python",
   "name": "python3"
  },
  "language_info": {
   "codemirror_mode": {
    "name": "ipython",
    "version": 3
   },
   "file_extension": ".py",
   "mimetype": "text/x-python",
   "name": "python",
   "nbconvert_exporter": "python",
   "pygments_lexer": "ipython3",
   "version": "3.9.6"
  },
  "orig_nbformat": 4,
  "vscode": {
   "interpreter": {
    "hash": "21db7f3255ac07e1babca6bbfc6c212cf18fd46cf53c71314c82ee89f20e77b2"
   }
  }
 },
 "nbformat": 4,
 "nbformat_minor": 2
}
